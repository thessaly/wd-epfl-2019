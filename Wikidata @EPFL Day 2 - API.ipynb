{
 "cells": [
  {
   "cell_type": "markdown",
   "metadata": {},
   "source": [
    "# Using the Wikibase API\n",
    "\n",
    "Wikidata is powered by [Wikibase](https://en.wikipedia.org/wiki/Wikibase), an extension of the [MediaWiki](https://en.wikipedia.org/wiki/MediaWiki) software. MediaWiki is a wiki engine, or collaborative software that runs wikis. It was developed for Wikipedia around 2002 but is currently used by many others.\n",
    "\n",
    "To access Wikidata through an API we need to use the Wikibase endpoint of the [MediaWiki API](https://www.mediawiki.org/wiki/API:Main_page). Being familiar with the MediaWiki API will certainly help you using the Wikibase endpoint.\n",
    "\n",
    "Here you will see a basic interaction with the API. For more detail refer to the [Wikibase/API page](https://www.mediawiki.org/wiki/Wikibase/API/en) and the [MediaWiki API tutorial](https://www.mediawiki.org/wiki/API:Tutorial)."
   ]
  },
  {
   "cell_type": "markdown",
   "metadata": {},
   "source": [
    "## 1. What for? \n",
    "The Wikibase API is a web service that allows access to some features like querying, adding, removing and editing information on Wikidata or any other Wikibase instance. \n",
    "\n",
    "These actions are performed by calling different *modules* of the API. \n",
    "\n",
    "All the Wikibase modules start with `wb`, you can find the complete list [here](https://www.mediawiki.org/wiki/Wikibase/API/en#API_modules)."
   ]
  },
  {
   "cell_type": "markdown",
   "metadata": {},
   "source": [
    "## 2. How to use it \n",
    "\n",
    "- Through direct HTTP requests: start by using the [API sandbox](https://www.wikidata.org/wiki/Special:ApiSandbox)\n",
    "\n",
    "- Using a python wrapper, like [Pywikibot](https://www.mediawiki.org/wiki/Manual:Pywikibot)"
   ]
  },
  {
   "cell_type": "markdown",
   "metadata": {},
   "source": [
    "### Endpoint\n",
    "\n",
    "[https://wikidata.org/w/api.php]( https://wikidata.org/w/api.php)"
   ]
  },
  {
   "cell_type": "markdown",
   "metadata": {},
   "source": [
    "### input/Output format\n",
    "\n",
    "- Input    \n",
    "\n",
    "The API takes its input through parameters provided by the HTTP request in `application/x-www-form-urlencoded` or `multipart/form-data` format.\n",
    "\n",
    "Parameters that take multiple values are normally submitted with the values separated using the pipe character (`|`), e.g. `param=value1|value2`.\n",
    "\n",
    "Timestamps accept multiple formats for input. \n",
    "\n",
    "- Output   \n",
    "\n",
    "Only `json` format supported.\n",
    "\n",
    "Timestamps are always output in `ISO 8601` format."
   ]
  },
  {
   "cell_type": "markdown",
   "metadata": {},
   "source": [
    "### Request limit\n",
    "\n",
    "There is no hard and fast limit on read requests, but try not to take a site down. Most system administrators reserve the right to block you if you do endanger the stability of their site.\n",
    "\n",
    "Making your requests in series rather than in parallel, by waiting for one request to finish before sending a new request, should result in a safe request rate."
   ]
  },
  {
   "cell_type": "markdown",
   "metadata": {},
   "source": [
    "### GET request format example\n",
    "\n",
    "Let's search for items with \"EPFL\" in the label or alias in English Wikidata, using the [`wbsearchentities`](https://www.wikidata.org/w/api.php?action=help&modules=wbsearchentities) module. \n",
    "\n",
    "- `https://wikidata.org/w/api.php`: the endpoint \n",
    "- `?`: connector\n",
    "- `action=wbsearchentities`: tells the API to use the wbsearchentities module, which searches for entities using labels and aliases. \n",
    "- `&`: connector\n",
    "- `search=EPFL`: indicates the text to look as label\n",
    "- `&`: connector\n",
    "- `language=en`: indicates the language I'm searching the label in\n",
    "- `&`: connector\n",
    "- `format=json`: format should be always JSON\n",
    "\n",
    "The final string is: `https://www.wikidata.org/w/api.php?action=wbsearchentities&search=EPFL&language=en&format=json`"
   ]
  },
  {
   "cell_type": "markdown",
   "metadata": {},
   "source": [
    "### Using the API directly\n",
    "\n",
    "You can try the string directly in your browser or make an HTTP request like the following:"
   ]
  },
  {
   "cell_type": "code",
   "execution_count": 16,
   "metadata": {},
   "outputs": [
    {
     "data": {
      "text/plain": [
       "{'searchinfo': {'search': 'EPFL'},\n",
       " 'search': [{'repository': '',\n",
       "   'id': 'Q262760',\n",
       "   'concepturi': 'http://www.wikidata.org/entity/Q262760',\n",
       "   'title': 'Q262760',\n",
       "   'pageid': 254815,\n",
       "   'url': '//www.wikidata.org/wiki/Q262760',\n",
       "   'label': 'École polytechnique fédérale de Lausanne',\n",
       "   'description': 'Swiss Federal Institute of Technology in Lausanne',\n",
       "   'match': {'type': 'alias', 'language': 'en', 'text': 'EPFL'},\n",
       "   'aliases': ['EPFL']},\n",
       "  {'repository': '',\n",
       "   'id': 'Q743926',\n",
       "   'concepturi': 'http://www.wikidata.org/entity/Q743926',\n",
       "   'title': 'Q743926',\n",
       "   'pageid': 699854,\n",
       "   'url': '//www.wikidata.org/wiki/Q743926',\n",
       "   'label': 'European Leagues',\n",
       "   'match': {'type': 'alias', 'language': 'en', 'text': 'EPFL'},\n",
       "   'aliases': ['EPFL']},\n",
       "  {'repository': '',\n",
       "   'id': 'Q27483170',\n",
       "   'concepturi': 'http://www.wikidata.org/entity/Q27483170',\n",
       "   'title': 'Q27483170',\n",
       "   'pageid': 29206007,\n",
       "   'url': '//www.wikidata.org/wiki/Q27483170',\n",
       "   'label': 'Archives de la construction moderne (EPFL)',\n",
       "   'description': 'museum in Lausanne (Switzerland)',\n",
       "   'match': {'type': 'alias', 'language': 'en', 'text': 'EPFL'},\n",
       "   'aliases': ['EPFL']},\n",
       "  {'repository': '',\n",
       "   'id': 'Q1275628',\n",
       "   'concepturi': 'http://www.wikidata.org/entity/Q1275628',\n",
       "   'title': 'Q1275628',\n",
       "   'pageid': 1216170,\n",
       "   'url': '//www.wikidata.org/wiki/Q1275628',\n",
       "   'label': 'EPFL',\n",
       "   'description': 'Wikimedia disambiguation page',\n",
       "   'match': {'type': 'label', 'language': 'en', 'text': 'EPFL'}},\n",
       "  {'repository': '',\n",
       "   'id': 'Q59251120',\n",
       "   'concepturi': 'http://www.wikidata.org/entity/Q59251120',\n",
       "   'title': 'Q59251120',\n",
       "   'pageid': 59157155,\n",
       "   'url': '//www.wikidata.org/wiki/Q59251120',\n",
       "   'label': 'EPIDERMAL PATTERNING FACTOR-like protein',\n",
       "   'match': {'type': 'alias', 'language': 'en', 'text': 'EPFL'},\n",
       "   'aliases': ['EPFL']},\n",
       "  {'repository': '',\n",
       "   'id': 'Q54832359',\n",
       "   'concepturi': 'http://www.wikidata.org/entity/Q54832359',\n",
       "   'title': 'Q54832359',\n",
       "   'pageid': 54931289,\n",
       "   'url': '//www.wikidata.org/wiki/Q54832359',\n",
       "   'label': 'EPFLi004-A',\n",
       "   'description': 'cell line',\n",
       "   'match': {'type': 'label', 'language': 'en', 'text': 'EPFLi004-A'}},\n",
       "  {'repository': '',\n",
       "   'id': 'Q54832357',\n",
       "   'concepturi': 'http://www.wikidata.org/entity/Q54832357',\n",
       "   'title': 'Q54832357',\n",
       "   'pageid': 54931287,\n",
       "   'url': '//www.wikidata.org/wiki/Q54832357',\n",
       "   'label': 'EPFLi002-A',\n",
       "   'description': 'cell line',\n",
       "   'match': {'type': 'label', 'language': 'en', 'text': 'EPFLi002-A'}}],\n",
       " 'search-continue': 7,\n",
       " 'success': 1}"
      ]
     },
     "execution_count": 16,
     "metadata": {},
     "output_type": "execute_result"
    }
   ],
   "source": [
    "import requests \n",
    "\n",
    "get_url_epfl = 'https://www.wikidata.org/w/api.php?action=wbsearchentities&search=EPFL&language=en&format=json'\n",
    "request = requests.get(get_url_epfl)\n",
    "results = request.json()\n",
    "results"
   ]
  },
  {
   "cell_type": "code",
   "execution_count": 17,
   "metadata": {},
   "outputs": [
    {
     "data": {
      "text/html": [
       "<div>\n",
       "<style scoped>\n",
       "    .dataframe tbody tr th:only-of-type {\n",
       "        vertical-align: middle;\n",
       "    }\n",
       "\n",
       "    .dataframe tbody tr th {\n",
       "        vertical-align: top;\n",
       "    }\n",
       "\n",
       "    .dataframe thead th {\n",
       "        text-align: right;\n",
       "    }\n",
       "</style>\n",
       "<table border=\"1\" class=\"dataframe\">\n",
       "  <thead>\n",
       "    <tr style=\"text-align: right;\">\n",
       "      <th></th>\n",
       "      <th>aliases</th>\n",
       "      <th>concepturi</th>\n",
       "      <th>description</th>\n",
       "      <th>id</th>\n",
       "      <th>label</th>\n",
       "      <th>match</th>\n",
       "      <th>pageid</th>\n",
       "      <th>repository</th>\n",
       "      <th>title</th>\n",
       "      <th>url</th>\n",
       "    </tr>\n",
       "  </thead>\n",
       "  <tbody>\n",
       "    <tr>\n",
       "      <th>0</th>\n",
       "      <td>[EPFL]</td>\n",
       "      <td>http://www.wikidata.org/entity/Q262760</td>\n",
       "      <td>Swiss Federal Institute of Technology in Lausanne</td>\n",
       "      <td>Q262760</td>\n",
       "      <td>École polytechnique fédérale de Lausanne</td>\n",
       "      <td>{'type': 'alias', 'language': 'en', 'text': 'E...</td>\n",
       "      <td>254815</td>\n",
       "      <td></td>\n",
       "      <td>Q262760</td>\n",
       "      <td>//www.wikidata.org/wiki/Q262760</td>\n",
       "    </tr>\n",
       "    <tr>\n",
       "      <th>1</th>\n",
       "      <td>[EPFL]</td>\n",
       "      <td>http://www.wikidata.org/entity/Q743926</td>\n",
       "      <td>NaN</td>\n",
       "      <td>Q743926</td>\n",
       "      <td>European Leagues</td>\n",
       "      <td>{'type': 'alias', 'language': 'en', 'text': 'E...</td>\n",
       "      <td>699854</td>\n",
       "      <td></td>\n",
       "      <td>Q743926</td>\n",
       "      <td>//www.wikidata.org/wiki/Q743926</td>\n",
       "    </tr>\n",
       "    <tr>\n",
       "      <th>2</th>\n",
       "      <td>[EPFL]</td>\n",
       "      <td>http://www.wikidata.org/entity/Q27483170</td>\n",
       "      <td>museum in Lausanne (Switzerland)</td>\n",
       "      <td>Q27483170</td>\n",
       "      <td>Archives de la construction moderne (EPFL)</td>\n",
       "      <td>{'type': 'alias', 'language': 'en', 'text': 'E...</td>\n",
       "      <td>29206007</td>\n",
       "      <td></td>\n",
       "      <td>Q27483170</td>\n",
       "      <td>//www.wikidata.org/wiki/Q27483170</td>\n",
       "    </tr>\n",
       "    <tr>\n",
       "      <th>3</th>\n",
       "      <td>NaN</td>\n",
       "      <td>http://www.wikidata.org/entity/Q1275628</td>\n",
       "      <td>Wikimedia disambiguation page</td>\n",
       "      <td>Q1275628</td>\n",
       "      <td>EPFL</td>\n",
       "      <td>{'type': 'label', 'language': 'en', 'text': 'E...</td>\n",
       "      <td>1216170</td>\n",
       "      <td></td>\n",
       "      <td>Q1275628</td>\n",
       "      <td>//www.wikidata.org/wiki/Q1275628</td>\n",
       "    </tr>\n",
       "    <tr>\n",
       "      <th>4</th>\n",
       "      <td>[EPFL]</td>\n",
       "      <td>http://www.wikidata.org/entity/Q59251120</td>\n",
       "      <td>NaN</td>\n",
       "      <td>Q59251120</td>\n",
       "      <td>EPIDERMAL PATTERNING FACTOR-like protein</td>\n",
       "      <td>{'type': 'alias', 'language': 'en', 'text': 'E...</td>\n",
       "      <td>59157155</td>\n",
       "      <td></td>\n",
       "      <td>Q59251120</td>\n",
       "      <td>//www.wikidata.org/wiki/Q59251120</td>\n",
       "    </tr>\n",
       "    <tr>\n",
       "      <th>5</th>\n",
       "      <td>NaN</td>\n",
       "      <td>http://www.wikidata.org/entity/Q54832359</td>\n",
       "      <td>cell line</td>\n",
       "      <td>Q54832359</td>\n",
       "      <td>EPFLi004-A</td>\n",
       "      <td>{'type': 'label', 'language': 'en', 'text': 'E...</td>\n",
       "      <td>54931289</td>\n",
       "      <td></td>\n",
       "      <td>Q54832359</td>\n",
       "      <td>//www.wikidata.org/wiki/Q54832359</td>\n",
       "    </tr>\n",
       "    <tr>\n",
       "      <th>6</th>\n",
       "      <td>NaN</td>\n",
       "      <td>http://www.wikidata.org/entity/Q54832357</td>\n",
       "      <td>cell line</td>\n",
       "      <td>Q54832357</td>\n",
       "      <td>EPFLi002-A</td>\n",
       "      <td>{'type': 'label', 'language': 'en', 'text': 'E...</td>\n",
       "      <td>54931287</td>\n",
       "      <td></td>\n",
       "      <td>Q54832357</td>\n",
       "      <td>//www.wikidata.org/wiki/Q54832357</td>\n",
       "    </tr>\n",
       "  </tbody>\n",
       "</table>\n",
       "</div>"
      ],
      "text/plain": [
       "  aliases                                concepturi  \\\n",
       "0  [EPFL]    http://www.wikidata.org/entity/Q262760   \n",
       "1  [EPFL]    http://www.wikidata.org/entity/Q743926   \n",
       "2  [EPFL]  http://www.wikidata.org/entity/Q27483170   \n",
       "3     NaN   http://www.wikidata.org/entity/Q1275628   \n",
       "4  [EPFL]  http://www.wikidata.org/entity/Q59251120   \n",
       "5     NaN  http://www.wikidata.org/entity/Q54832359   \n",
       "6     NaN  http://www.wikidata.org/entity/Q54832357   \n",
       "\n",
       "                                         description         id  \\\n",
       "0  Swiss Federal Institute of Technology in Lausanne    Q262760   \n",
       "1                                                NaN    Q743926   \n",
       "2                   museum in Lausanne (Switzerland)  Q27483170   \n",
       "3                      Wikimedia disambiguation page   Q1275628   \n",
       "4                                                NaN  Q59251120   \n",
       "5                                          cell line  Q54832359   \n",
       "6                                          cell line  Q54832357   \n",
       "\n",
       "                                        label  \\\n",
       "0    École polytechnique fédérale de Lausanne   \n",
       "1                            European Leagues   \n",
       "2  Archives de la construction moderne (EPFL)   \n",
       "3                                        EPFL   \n",
       "4    EPIDERMAL PATTERNING FACTOR-like protein   \n",
       "5                                  EPFLi004-A   \n",
       "6                                  EPFLi002-A   \n",
       "\n",
       "                                               match    pageid repository  \\\n",
       "0  {'type': 'alias', 'language': 'en', 'text': 'E...    254815              \n",
       "1  {'type': 'alias', 'language': 'en', 'text': 'E...    699854              \n",
       "2  {'type': 'alias', 'language': 'en', 'text': 'E...  29206007              \n",
       "3  {'type': 'label', 'language': 'en', 'text': 'E...   1216170              \n",
       "4  {'type': 'alias', 'language': 'en', 'text': 'E...  59157155              \n",
       "5  {'type': 'label', 'language': 'en', 'text': 'E...  54931289              \n",
       "6  {'type': 'label', 'language': 'en', 'text': 'E...  54931287              \n",
       "\n",
       "       title                                url  \n",
       "0    Q262760    //www.wikidata.org/wiki/Q262760  \n",
       "1    Q743926    //www.wikidata.org/wiki/Q743926  \n",
       "2  Q27483170  //www.wikidata.org/wiki/Q27483170  \n",
       "3   Q1275628   //www.wikidata.org/wiki/Q1275628  \n",
       "4  Q59251120  //www.wikidata.org/wiki/Q59251120  \n",
       "5  Q54832359  //www.wikidata.org/wiki/Q54832359  \n",
       "6  Q54832357  //www.wikidata.org/wiki/Q54832357  "
      ]
     },
     "execution_count": 17,
     "metadata": {},
     "output_type": "execute_result"
    }
   ],
   "source": [
    "pd.DataFrame(results['search'])"
   ]
  },
  {
   "cell_type": "markdown",
   "metadata": {},
   "source": [
    "### Using the API through Pywikibot"
   ]
  },
  {
   "cell_type": "code",
   "execution_count": 21,
   "metadata": {},
   "outputs": [
    {
     "data": {
      "text/plain": [
       "Page('Lausanne')"
      ]
     },
     "execution_count": 21,
     "metadata": {},
     "output_type": "execute_result"
    }
   ],
   "source": [
    "import pywikibot\n",
    "site = pywikibot.Site('en', 'wikipedia')  # any site will work, this is just an example\n",
    "page = pywikibot.Page(site, 'Lausanne')\n",
    "page"
   ]
  },
  {
   "cell_type": "code",
   "execution_count": 22,
   "metadata": {},
   "outputs": [
    {
     "data": {
      "text/plain": [
       "ItemPage('Q807')"
      ]
     },
     "execution_count": 22,
     "metadata": {},
     "output_type": "execute_result"
    }
   ],
   "source": [
    "item = pywikibot.ItemPage.fromPage(page)\n",
    "item"
   ]
  },
  {
   "cell_type": "code",
   "execution_count": 26,
   "metadata": {},
   "outputs": [
    {
     "data": {
      "text/plain": [
       "{'afwiki': 'Lausanne',\n",
       " 'alswiki': 'Lausanne',\n",
       " 'amwiki': 'ሎዛን',\n",
       " 'anwiki': 'Lausana',\n",
       " 'arwiki': 'لوزان',\n",
       " 'arzwiki': 'لوزان',\n",
       " 'astwiki': 'Lausana',\n",
       " 'azbwiki': 'لوزان',\n",
       " 'azwiki': 'Lozanna',\n",
       " 'be_x_oldwiki': 'Лязана',\n",
       " 'bewiki': 'Лазана',\n",
       " 'bgwiki': 'Лозана',\n",
       " 'bnwiki': 'লোজান',\n",
       " 'brwiki': 'Lausanne',\n",
       " 'bswiki': 'Lausanne',\n",
       " 'cawiki': 'Lausana',\n",
       " 'cebwiki': 'Lausanne (munisipyo)',\n",
       " 'cewiki': 'Лозанна',\n",
       " 'ckbwiki': 'لۆزان',\n",
       " 'commonswiki': 'Lausanne',\n",
       " 'csbwiki': 'Lozanna',\n",
       " 'cswiki': 'Lausanne',\n",
       " 'cvwiki': 'Лозанна',\n",
       " 'cywiki': 'Lausanne',\n",
       " 'dawiki': 'Lausanne',\n",
       " 'dewiki': 'Lausanne',\n",
       " 'dewikinews': 'Kategorie:Lausanne',\n",
       " 'dewikivoyage': 'Lausanne',\n",
       " 'elwiki': 'Λωζάνη',\n",
       " 'enwiki': 'Lausanne',\n",
       " 'enwikivoyage': 'Lausanne',\n",
       " 'eowiki': 'Laŭzano',\n",
       " 'eswiki': 'Lausana',\n",
       " 'etwiki': 'Lausanne',\n",
       " 'euwiki': 'Lausana',\n",
       " 'fawiki': 'لوزان',\n",
       " 'fawikivoyage': 'لوزان',\n",
       " 'fiwiki': 'Lausanne',\n",
       " 'frpwiki': 'Losena',\n",
       " 'frrwiki': 'Lausanne',\n",
       " 'frwiki': 'Lausanne',\n",
       " 'frwikinews': 'Catégorie:Lausanne',\n",
       " 'frwikivoyage': 'Lausanne',\n",
       " 'gawiki': 'Lausanne',\n",
       " 'gdwiki': 'Lausanne',\n",
       " 'glwiki': 'Lausana',\n",
       " 'hakwiki': 'Lausanne',\n",
       " 'hewiki': 'לוזאן',\n",
       " 'hewikivoyage': 'לוזאן',\n",
       " 'hrwiki': 'Lausanne',\n",
       " 'huwiki': 'Lausanne',\n",
       " 'hywiki': 'Լոզան',\n",
       " 'iawiki': 'Lausanna',\n",
       " 'idwiki': 'Lausanne',\n",
       " 'iewiki': 'Lausanne',\n",
       " 'iowiki': 'Lausanne',\n",
       " 'iswiki': 'Lausanne',\n",
       " 'itwiki': 'Losanna',\n",
       " 'itwikiquote': 'Losanna',\n",
       " 'itwikivoyage': 'Losanna',\n",
       " 'jawiki': 'ローザンヌ',\n",
       " 'kaawiki': 'Lozanna',\n",
       " 'kawiki': 'ლოზანა',\n",
       " 'kkwiki': 'Лозанна',\n",
       " 'kowiki': '로잔',\n",
       " 'kuwiki': 'Lozan',\n",
       " 'kywiki': 'Лозанна шаары',\n",
       " 'lawiki': 'Lausanna',\n",
       " 'lbwiki': 'Lausanne',\n",
       " 'liwiki': 'Lausanne (stad)',\n",
       " 'lmowiki': 'Lusana',\n",
       " 'ltwiki': 'Lozana',\n",
       " 'lvwiki': 'Lozanna',\n",
       " 'mrwiki': 'लोझान',\n",
       " 'mswiki': 'Lausanne',\n",
       " 'napwiki': 'Losanna',\n",
       " 'nawiki': 'Lausanne',\n",
       " 'ndswiki': 'Lausanne',\n",
       " 'nlwiki': 'Lausanne (stad)',\n",
       " 'nlwikivoyage': 'Lausanne',\n",
       " 'nnwiki': 'Lausanne',\n",
       " 'nowiki': 'Lausanne',\n",
       " 'ocwiki': 'Lausana',\n",
       " 'oswiki': 'Лозаннæ',\n",
       " 'plwiki': 'Lozanna',\n",
       " 'plwikiquote': 'Lozanna',\n",
       " 'plwikivoyage': 'Lozanna',\n",
       " 'pnbwiki': 'لوزان',\n",
       " 'ptwiki': 'Lausana',\n",
       " 'ptwikivoyage': 'Lausanne',\n",
       " 'quwiki': 'Lausanne',\n",
       " 'rmwiki': 'Losanna',\n",
       " 'rowiki': 'Lausanne',\n",
       " 'rowikivoyage': 'Lausanne',\n",
       " 'ruwiki': 'Лозанна',\n",
       " 'ruwikinews': 'Категория:Лозанна',\n",
       " 'ruwikiquote': 'Лозанна',\n",
       " 'scnwiki': 'Losanna',\n",
       " 'scowiki': 'Lausanne',\n",
       " 'shwiki': 'Lausanne',\n",
       " 'simplewiki': 'Lausanne',\n",
       " 'skwiki': 'Lausanne',\n",
       " 'slwiki': 'Lozana',\n",
       " 'sqwiki': 'Lozana',\n",
       " 'srwiki': 'Лозана',\n",
       " 'svwiki': 'Lausanne',\n",
       " 'svwikivoyage': 'Lausanne',\n",
       " 'szlwiki': 'Lausanne',\n",
       " 'tawiki': 'லோசான்',\n",
       " 'thwiki': 'โลซาน',\n",
       " 'trwiki': 'Lozan',\n",
       " 'ttwiki': 'Лозанна',\n",
       " 'ukwiki': 'Лозанна',\n",
       " 'urwiki': 'لوزان',\n",
       " 'uzwiki': 'Lozanna',\n",
       " 'vecwiki': 'Łoxana',\n",
       " 'viwiki': 'Lausanne',\n",
       " 'viwikivoyage': 'Lausanne',\n",
       " 'vowiki': 'Lausanne',\n",
       " 'warwiki': 'Lausanne',\n",
       " 'wuuwiki': '洛桑',\n",
       " 'yowiki': 'Lausanne',\n",
       " 'zh_min_nanwiki': 'Lausanne',\n",
       " 'zh_yuewiki': '洛桑',\n",
       " 'zhwiki': '洛桑'}"
      ]
     },
     "execution_count": 26,
     "metadata": {},
     "output_type": "execute_result"
    }
   ],
   "source": [
    "sitelinks = item.sitelinks\n",
    "sitelinks"
   ]
  },
  {
   "cell_type": "code",
   "execution_count": 25,
   "metadata": {},
   "outputs": [
    {
     "data": {
      "text/plain": [
       "{'en': ['Lausanne VD', 'Olympic Capital'],\n",
       " 'la': ['Lausonium'],\n",
       " 'fr': ['Capitale olympique'],\n",
       " 'de': ['olympische Hauptstadt'],\n",
       " 'kn': ['ಲಾಸನ್ನೆ ವಿಡಿ', 'ಒಲಿಂಪಿಕ್ ಕ್ಯಾಪಿಟಲ್'],\n",
       " 'gl': ['Lausanne', 'capital olímpica'],\n",
       " 'ky': ['Лозанн шаары'],\n",
       " 'en-gb': ['Lausanne VD', 'Olympic Capital'],\n",
       " 'cy': ['Lausanne VD'],\n",
       " 'eo': ['Olimpika Ĉefurbo']}"
      ]
     },
     "execution_count": 25,
     "metadata": {},
     "output_type": "execute_result"
    }
   ],
   "source": [
    "aliases = item.aliases\n",
    "aliases"
   ]
  },
  {
   "cell_type": "code",
   "execution_count": 31,
   "metadata": {},
   "outputs": [
    {
     "name": "stdout",
     "output_type": "stream",
     "text": [
      "[[wikidata:Q70208]]\n"
     ]
    }
   ],
   "source": [
    "claims = item.claims\n",
    "print(item.claims['P31'][0].getTarget())"
   ]
  }
 ],
 "metadata": {
  "kernelspec": {
   "display_name": "Python 3",
   "language": "python",
   "name": "python3"
  },
  "language_info": {
   "codemirror_mode": {
    "name": "ipython",
    "version": 3
   },
   "file_extension": ".py",
   "mimetype": "text/x-python",
   "name": "python",
   "nbconvert_exporter": "python",
   "pygments_lexer": "ipython3",
   "version": "3.6.7"
  }
 },
 "nbformat": 4,
 "nbformat_minor": 2
}
